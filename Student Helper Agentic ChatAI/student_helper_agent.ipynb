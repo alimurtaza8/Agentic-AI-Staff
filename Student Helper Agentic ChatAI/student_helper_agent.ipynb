{
 "cells": [
  {
   "cell_type": "code",
   "execution_count": 161,
   "metadata": {},
   "outputs": [],
   "source": [
    "# imports \n",
    "\n",
    "from langchain_google_genai import ChatGoogleGenerativeAI\n",
    "from langchain_core.messages import AIMessage, HumanMessage, SystemMessage\n",
    "from langgraph.graph import StateGraph, START,END,add_messages, MessagesState\n",
    "from langgraph.graph.state import CompiledGraph\n",
    "from langgraph.graph.message import add_messages\n",
    "from typing_extensions import Annotated\n",
    "from typing import TypedDict\n",
    "import os\n",
    "\n",
    "api_key = os.getenv(\"GEMINI_API_KEY\")\n",
    "\n",
    "llm = ChatGoogleGenerativeAI(model=\"gemini-1.5-flash\", api_key=api_key)"
   ]
  },
  {
   "cell_type": "code",
   "execution_count": 162,
   "metadata": {},
   "outputs": [
    {
     "data": {
      "text/plain": [
       "AIMessage(content='Hi there! How can I help you today?\\n', additional_kwargs={}, response_metadata={'prompt_feedback': {'block_reason': 0, 'safety_ratings': []}, 'finish_reason': 'STOP', 'safety_ratings': []}, id='run-710edd1a-b6d3-457e-b03c-7c39da95907a-0', usage_metadata={'input_tokens': 3, 'output_tokens': 11, 'total_tokens': 14, 'input_token_details': {'cache_read': 0}})"
      ]
     },
     "execution_count": 162,
     "metadata": {},
     "output_type": "execute_result"
    }
   ],
   "source": [
    "llm.invoke(\"Hi?\")"
   ]
  },
  {
   "cell_type": "code",
   "execution_count": 164,
   "metadata": {},
   "outputs": [],
   "source": [
    "# Now Start to creating the whole system but first create some db\n",
    "\n",
    "departments = [{\n",
    "    \"name\": \"Computer Science\",\n",
    "    \"location\": \"New York\",\n",
    "    \"head\": \"Dr. Smith\",\n",
    "    \"phone\": \"123-456-7890\",\n",
    "    \"email\": \"i2O1k@example.com\",\n",
    "    \"website\": \"https://example.com/computer-science\",\n",
    "    \"id\": \"01\",\n",
    "    },\n",
    "    {\n",
    "    \"name\": \"Mathematics\",\n",
    "    \"location\": \"San Francisco\",\n",
    "    \"head\": \"Dr. Johnson\",\n",
    "    \"phone\": \"987-654-3210\",\n",
    "    \"email\": \"2m9w9@example.com\",\n",
    "    \"website\": \"https://example.com/mathematics\",\n",
    "    \"id\": \"02\",\n",
    "    },\n",
    "    {\n",
    "    \"name\": \"Physics\",\n",
    "    \"location\": \"London\",\n",
    "    \"head\": \"Dr. Brown\",\n",
    "    \"phone\": \"555-555-5555\",\n",
    "    \"email\": \"f7o8o@example.com\",\n",
    "    \"website\": \"https://example.com/physics\",\n",
    "    \"id\": \"03\",\n",
    "    }   \n",
    "]\n",
    "\n",
    "teachers = [\n",
    "    {\n",
    "    \"name\": \"Dr. Mike\",\n",
    "    \"department\": \"Computer Science\",\n",
    "    \"department_id\": \"01\",\n",
    "    \"email\": \"i2O1k@example.com\",\n",
    "    \"phone\": \"123-456-7890\",\n",
    "    \"tid\": \"c1\",\n",
    "    },\n",
    "    {\n",
    "    \"name\": \"Dr. Andrew\",\n",
    "    \"department\": \"Mathematics\",\n",
    "    \"department_id\": \"02\",\n",
    "    \"email\": \"2m9w9@example.com\",\n",
    "    \"phone\": \"987-654-3210\",\n",
    "    \"tid\": \"m02\",\n",
    "    },\n",
    "    {\n",
    "    \"name\": \"Dr. Jognson\",\n",
    "    \"department\": \"Physics\",\n",
    "    \"department_id\": \"03\",\n",
    "    \"email\": \"f7o8o@example.com\",\n",
    "    \"phone\": \"555-555-5555\",\n",
    "    \"tid\": \"p03\",\n",
    "    }\n",
    "]\n",
    "\n",
    "courses = [\n",
    "    {\n",
    "    \"name\": \"Introduction to Computer Science\",\n",
    "    \"teacher\": \"Dr. Mike\",\n",
    "    \"teacher_id\": \"c1\",\n",
    "    \"department\": \"Computer Science\",\n",
    "    \"department_id\": \"01\",\n",
    "    \"id\": \"01\",\n",
    "    },\n",
    "    {\n",
    "    \"name\": \"Calculus 1\",\n",
    "    \"teacher\": \"Dr. Andrew\",\n",
    "    \"teacher_id\": \"m02\",\n",
    "    \"department\": \"Mathematics\",\n",
    "    \"department_id\": \"02\",\n",
    "    \"id\": \"02\",\n",
    "    },\n",
    "    {\n",
    "    \"name\": \"Mechanics\",\n",
    "    \"teacher\": \"Dr. Jognson\",\n",
    "    \"teacher_id\": \"p03\",\n",
    "    \"department\": \"Physics\",\n",
    "    \"department_id\": \"03\",\n",
    "    \"id\": \"03\",\n",
    "    }\n",
    "]\n",
    "\n",
    "\n",
    "students_info = []\n",
    "\n",
    "def call_student():\n",
    "    while True:\n",
    "        user_input = input(\"Enter a command: \")\n",
    "        if user_input == \"exit\":\n",
    "            break\n",
    "        student_name = input(\"Enter your name: \")\n",
    "        studetent_id = input(\"Enter your student id: \")\n",
    "        student_age = int(input(\"Enter your age: \"))\n",
    "\n",
    "        info = {\n",
    "            \"name\": student_name,\n",
    "            \"student_id\": studetent_id,\n",
    "            \"age\": student_age,\n",
    "        }\n",
    "\n",
    "        students_info.append(info)\n",
    "\n",
    "# call_student()    \n",
    "    \n",
    "    \n",
    "# display(students_info)"
   ]
  },
  {
   "cell_type": "code",
   "execution_count": 50,
   "metadata": {},
   "outputs": [],
   "source": [
    "call_student()"
   ]
  },
  {
   "cell_type": "code",
   "execution_count": 102,
   "metadata": {},
   "outputs": [
    {
     "data": {
      "text/plain": [
       "[]"
      ]
     },
     "metadata": {},
     "output_type": "display_data"
    }
   ],
   "source": [
    "display(students_info)"
   ]
  },
  {
   "cell_type": "code",
   "execution_count": 189,
   "metadata": {},
   "outputs": [],
   "source": [
    "# Now Creating some tools so the llm can interact with these tools according to the student input\n",
    "\n",
    "from langchain_core.tools import tool\n",
    "\n",
    "@tool\n",
    "def greeting(name: str)-> str:\n",
    "    \"\"\"\n",
    "        This tool is design to Give the Greet msg of user accoring to this name \n",
    "    \"\"\" \n",
    "    return f\"Welcome to Edge of Web3 {name}. Let's go froggy\"\n",
    "\n",
    "@tool\n",
    "def retrevie_info_of_department():\n",
    "    \"\"\"\n",
    "    This tool is set to retrevie the available data from databases  from \n",
    "    department \n",
    "    \"\"\"\n",
    "    output = \"Hey here is the Information of department:\\n\"\n",
    "    for data in departments:\n",
    "        output += str(data) + \"\\n\"\n",
    "    return output\n",
    "\n",
    "@tool\n",
    "def retrevie_info_of_teacher():\n",
    "    \"\"\"\n",
    "    This tool is set to retrevie the available data from databases  from \n",
    "     teachers \n",
    "     \"\"\"\n",
    "\n",
    "    output = \"Hey here is the Information of Teachers:....\"\n",
    "    for data in teachers:\n",
    "        # print(data)\n",
    "        output += str(data) + \"\\n\"\n",
    "    return output\n",
    "\n",
    "@tool\n",
    "def retrevie_info_of_courses():\n",
    "    \"\"\"\n",
    "    This tool is set to retrevie the available data from databases  from \n",
    "     courses \n",
    "     \"\"\"\n",
    "\n",
    "    output = \"Hey here is the Information of Courses:....\"\n",
    "    for data in courses:\n",
    "        # print(data)\n",
    "        output += str(data) + \"\\n\"\n",
    "    \n",
    "    return output\n",
    "\n",
    "@tool\n",
    "def retrevie_student_info():\n",
    "    \"\"\"\n",
    "        This tool is get the student data from student_info db if data is present\n",
    "        otherwise it send that you are not student\n",
    "\n",
    "        Args:\n",
    "        student_id: str\n",
    "    \"\"\"\n",
    "\n",
    "\n",
    "    output = \"Here is the data of students:....\"\n",
    "\n",
    "    for student_data in students_info:\n",
    "        output += student_data\n",
    "        # if student_data[\"student_id\"] == student_id:\n",
    "        #     # print(student_data)\n",
    "        #     output = str(student_data) + \"\\n\" \n",
    "        # else:\n",
    "        #     print(\"Id not found\")\n",
    "        \n",
    "    return output\n",
    "\n",
    "@tool\n",
    "def new_addmission():\n",
    "    \"\"\"\n",
    "    This tool handle the process of student new admisson\n",
    "\n",
    "    \"\"\"\n",
    "    call_student()\n",
    "\n"
   ]
  },
  {
   "cell_type": "code",
   "execution_count": 190,
   "metadata": {},
   "outputs": [],
   "source": [
    "# ok Great Cool Now Its time to build the AI\n",
    "from langgraph.graph import MessagesState\n",
    "from langgraph.prebuilt import ToolNode,tools_condition\n",
    "from langgraph.checkpoint.memory import MemorySaver\n",
    "from IPython.display import Image\n",
    "\n",
    "llm_with_tools = llm.bind_tools([greeting,retrevie_info_of_department,retrevie_info_of_teacher,retrevie_info_of_courses,new_addmission])\n",
    "\n",
    "class State(MessagesState):\n",
    "    # messages: list\n",
    "    pass\n",
    "\n",
    "def chat_llm(state: State):\n",
    "    # Get the full message history\n",
    "    messages = state[\"messages\"]\n",
    "    \n",
    "    # Invoke LLM with proper message format\n",
    "    response = llm_with_tools.invoke(messages)\n",
    "    \n",
    "    # Return the updated state\n",
    "    return {\"messages\": messages + [response]}\n",
    "\n",
    "# Now construct the graph\n",
    "\n",
    "# builder: StateGraph = StateGraph(state_schema=State)\n",
    "# builder.add_node(\"chat_llm\",chat_llm)\n",
    "# builder.add_node(\"tools\",ToolNode([greeting,retrevie_info_of_department,retrevie_info_of_teacher,retrevie_info_of_courses,new_addmission]))\n",
    "\n",
    "# builder.add_edge(START, \"chat_llm\")\n",
    "# builder.add_conditional_edges(\"chat_llm\",tools_condition)\n",
    "# builder.add_edge(\"tools\",\"chat_llm\")\n",
    "\n",
    "builder = StateGraph(State)\n",
    "builder.add_node(\"chat_llm\", chat_llm)\n",
    "builder.add_node(\"tools\", ToolNode([\n",
    "    greeting,\n",
    "    retrevie_info_of_department,\n",
    "    retrevie_info_of_teacher,\n",
    "    retrevie_info_of_courses,\n",
    "    new_addmission\n",
    "]))\n",
    "\n",
    "builder.set_entry_point(\"chat_llm\")\n",
    "builder.add_conditional_edges(\n",
    "    \"chat_llm\",\n",
    "    tools_condition,\n",
    "    {\"tools\": \"tools\", END: END}\n",
    ")\n",
    "builder.add_edge(\"tools\", \"chat_llm\")\n",
    "\n",
    "graph: CompiledGraph = builder.compile()\n"
   ]
  },
  {
   "cell_type": "code",
   "execution_count": 192,
   "metadata": {},
   "outputs": [
    {
     "data": {
      "image/png": "[encoded data removed]",
      "text/plain": [
       "<IPython.core.display.Image object>"
      ]
     },
     "execution_count": 192,
     "metadata": {},
     "output_type": "execute_result"
    }
   ],
   "source": [
    "\n",
    "Image(graph.get_graph().draw_mermaid_png())"
   ]
  },
  {
   "cell_type": "code",
   "execution_count": 168,
   "metadata": {},
   "outputs": [
    {
     "data": {
      "text/plain": [
       "AIMessage(content='Hi there! How can I help you today?\\n', additional_kwargs={}, response_metadata={'prompt_feedback': {'block_reason': 0, 'safety_ratings': []}, 'finish_reason': 'STOP', 'safety_ratings': []}, id='run-b342c63d-492b-4455-99af-883431ee6930-0', usage_metadata={'input_tokens': 2, 'output_tokens': 11, 'total_tokens': 13, 'input_token_details': {'cache_read': 0}})"
      ]
     },
     "execution_count": 168,
     "metadata": {},
     "output_type": "execute_result"
    }
   ],
   "source": [
    "llm.invoke(\"Hi\")"
   ]
  },
  {
   "cell_type": "code",
   "execution_count": 193,
   "metadata": {},
   "outputs": [
    {
     "name": "stdout",
     "output_type": "stream",
     "text": [
      "================================\u001b[1m Human Message \u001b[0m=================================\n",
      "\n",
      "My Name is Ali\n",
      "==================================\u001b[1m Ai Message \u001b[0m==================================\n",
      "Tool Calls:\n",
      "  greeting (e1b6eeea-3ea1-46ab-8c2d-83024d4babc0)\n",
      " Call ID: e1b6eeea-3ea1-46ab-8c2d-83024d4babc0\n",
      "  Args:\n",
      "    name: Ali\n",
      "=================================\u001b[1m Tool Message \u001b[0m=================================\n",
      "Name: greeting\n",
      "\n",
      "Welcome to Edge of Web3 Ali. Let's go froggy\n",
      "==================================\u001b[1m Ai Message \u001b[0m==================================\n",
      "\n",
      "Welcome to Edge of Web3 Ali. Let's go froggy\n"
     ]
    }
   ],
   "source": [
    "message = graph.invoke({\"messages\": [HumanMessage(content=\"My Name is Ali\")]})\n",
    "\n",
    "# Print the messages\n",
    "for m in message['messages']:\n",
    "    m.pretty_print()"
   ]
  },
  {
   "cell_type": "code",
   "execution_count": 170,
   "metadata": {},
   "outputs": [
    {
     "name": "stdout",
     "output_type": "stream",
     "text": [
      "================================\u001b[1m Human Message \u001b[0m=================================\n",
      "\n",
      "Whats the department data\n",
      "==================================\u001b[1m Ai Message \u001b[0m==================================\n",
      "Tool Calls:\n",
      "  retrevie_info_of_department (1231666a-4569-42a6-a3e3-679fcee1dc86)\n",
      " Call ID: 1231666a-4569-42a6-a3e3-679fcee1dc86\n",
      "  Args:\n",
      "=================================\u001b[1m Tool Message \u001b[0m=================================\n",
      "Name: retrevie_info_of_department\n",
      "\n",
      "Hey here is the Information of department:\n",
      "{'name': 'Computer Science', 'location': 'New York', 'head': 'Dr. Smith', 'phone': '123-456-7890', 'email': 'i2O1k@example.com', 'website': 'https://example.com/computer-science', 'id': '01'}\n",
      "{'name': 'Mathematics', 'location': 'San Francisco', 'head': 'Dr. Johnson', 'phone': '987-654-3210', 'email': '2m9w9@example.com', 'website': 'https://example.com/mathematics', 'id': '02'}\n",
      "{'name': 'Physics', 'location': 'London', 'head': 'Dr. Brown', 'phone': '555-555-5555', 'email': 'f7o8o@example.com', 'website': 'https://example.com/physics', 'id': '03'}\n",
      "\n",
      "==================================\u001b[1m Ai Message \u001b[0m==================================\n",
      "\n",
      "Here is the information about the departments:\n",
      "```json\n",
      "{\n",
      "  \"name\": \"Computer Science\",\n",
      "  \"location\": \"New York\",\n",
      "  \"head\": \"Dr. Smith\",\n",
      "  \"phone\": \"123-456-7890\",\n",
      "  \"email\": \"i2O1k@example.com\",\n",
      "  \"website\": \"https://example.com/computer-science\",\n",
      "  \"id\": \"01\"\n",
      "}\n",
      "{\n",
      "  \"name\": \"Mathematics\",\n",
      "  \"location\": \"San Francisco\",\n",
      "  \"head\": \"Dr. Johnson\",\n",
      "  \"phone\": \"987-654-3210\",\n",
      "  \"email\": \"2m9w9@example.com\",\n",
      "  \"website\": \"https://example.com/mathematics\",\n",
      "  \"id\": \"02\"\n",
      "}\n",
      "{\n",
      "  \"name\": \"Physics\",\n",
      "  \"location\": \"London\",\n",
      "  \"head\": \"Dr. Brown\",\n",
      "  \"phone\": \"555-555-5555\",\n",
      "  \"email\": \"f7o8o@example.com\",\n",
      "  \"website\": \"https://example.com/physics\",\n",
      "  \"id\": \"03\"\n",
      "}\n",
      "\n",
      "```\n"
     ]
    }
   ],
   "source": [
    "message = graph.invoke({\"messages\": [HumanMessage(content=\"Whats the department data\")]})\n",
    "# Instead of passing the HumanMessage directly,\n",
    "# pass a dictionary with a text field.\n",
    "# message = graph.invoke({\"messages\": [{\"text\": \"I need information of departments\"}]})\n",
    "\n",
    "\n",
    "# Print the messages\n",
    "for m in message['messages']:\n",
    "    m.pretty_print()"
   ]
  },
  {
   "cell_type": "code",
   "execution_count": 171,
   "metadata": {},
   "outputs": [
    {
     "name": "stdout",
     "output_type": "stream",
     "text": [
      "================================\u001b[1m Human Message \u001b[0m=================================\n",
      "\n",
      "He I want admission man\n",
      "==================================\u001b[1m Ai Message \u001b[0m==================================\n",
      "Tool Calls:\n",
      "  new_addmission (5675c981-473a-463c-ad96-ed5291172cb3)\n",
      " Call ID: 5675c981-473a-463c-ad96-ed5291172cb3\n",
      "  Args:\n",
      "=================================\u001b[1m Tool Message \u001b[0m=================================\n",
      "Name: new_addmission\n",
      "\n",
      "null\n",
      "==================================\u001b[1m Ai Message \u001b[0m==================================\n",
      "\n",
      "OK. I have started your admission process.  What information do you need to provide?\n"
     ]
    }
   ],
   "source": [
    "message = graph.invoke({\"messages\": [HumanMessage(content=\"He I want admission man\")]})\n",
    "# Instead of passing the HumanMessage directly,\n",
    "# pass a dictionary with a text field.\n",
    "# message = graph.invoke({\"messages\": [{\"text\": \"I need information of departments\"}]})\n",
    "\n",
    "\n",
    "# Print the messages\n",
    "for m in message['messages']:\n",
    "    m.pretty_print()"
   ]
  },
  {
   "cell_type": "code",
   "execution_count": 178,
   "metadata": {},
   "outputs": [
    {
     "name": "stdout",
     "output_type": "stream",
     "text": [
      "================================\u001b[1m Human Message \u001b[0m=================================\n",
      "\n",
      "check it that the name Ali student is in?\n",
      "==================================\u001b[1m Ai Message \u001b[0m==================================\n",
      "\n",
      "I need more information to answer your question.  The available tools don't allow searching for a student by name.  Is there a student ID or other identifier I can use?\n"
     ]
    }
   ],
   "source": [
    "message = graph.invoke({\"messages\": [HumanMessage(content=\"check it that the name Ali student is in?\")]})\n",
    "# Instead of passing the HumanMessage directly,\n",
    "# pass a dictionary with a text field.\n",
    "# message = graph.invoke({\"messages\": [{\"text\": \"I need information of departments\"}]})\n",
    "\n",
    "\n",
    "# Print the messages\n",
    "for m in message['messages']:\n",
    "    m.pretty_print()"
   ]
  },
  {
   "cell_type": "code",
   "execution_count": 176,
   "metadata": {},
   "outputs": [
    {
     "data": {
      "text/plain": [
       "[{'name': 'ALi', 'student_id': '21', 'age': 24}]"
      ]
     },
     "execution_count": 176,
     "metadata": {},
     "output_type": "execute_result"
    }
   ],
   "source": [
    "students_info"
   ]
  },
  {
   "cell_type": "code",
   "execution_count": 183,
   "metadata": {},
   "outputs": [
    {
     "name": "stdout",
     "output_type": "stream",
     "text": [
      "================================\u001b[1m Human Message \u001b[0m=================================\n",
      "\n",
      "Hi I need assissment and my name is Ali\n",
      "==================================\u001b[1m Ai Message \u001b[0m==================================\n",
      "Tool Calls:\n",
      "  greeting (7a20d8d7-6638-40e5-8208-1d02d0e42751)\n",
      " Call ID: 7a20d8d7-6638-40e5-8208-1d02d0e42751\n",
      "  Args:\n",
      "    name: Ali\n",
      "=================================\u001b[1m Tool Message \u001b[0m=================================\n",
      "Name: greeting\n",
      "\n",
      "Welcome to Edge of Web3 Ali. Let's go froggy\n",
      "==================================\u001b[1m Ai Message \u001b[0m==================================\n",
      "\n",
      "Welcome to Edge of Web3 Ali. Let's go froggy.  Anything else I can help you with today?\n"
     ]
    }
   ],
   "source": [
    "message = graph.invoke({\"messages\": [HumanMessage(content=\"Hi I need assissment and my name is Ali\")]})\n",
    "# Instead of passing the HumanMessage directly,\n",
    "# pass a dictionary with a text field.\n",
    "# message = graph.invoke({\"messages\": [{\"text\": \"I need information of departments\"}]})\n",
    "\n",
    "\n",
    "# Print the messages\n",
    "for m in message['messages']:\n",
    "    m.pretty_print()"
   ]
  },
  {
   "cell_type": "code",
   "execution_count": 184,
   "metadata": {},
   "outputs": [
    {
     "name": "stdout",
     "output_type": "stream",
     "text": [
      "================================\u001b[1m Human Message \u001b[0m=================================\n",
      "\n",
      "is the department of computer sciense is present? Give me the detail of this department please\n",
      "==================================\u001b[1m Ai Message \u001b[0m==================================\n",
      "Tool Calls:\n",
      "  retrevie_info_of_department (100f5a63-9998-4516-b36c-0f2de2773c36)\n",
      " Call ID: 100f5a63-9998-4516-b36c-0f2de2773c36\n",
      "  Args:\n",
      "=================================\u001b[1m Tool Message \u001b[0m=================================\n",
      "Name: retrevie_info_of_department\n",
      "\n",
      "Hey here is the Information of department:\n",
      "{'name': 'Computer Science', 'location': 'New York', 'head': 'Dr. Smith', 'phone': '123-456-7890', 'email': 'i2O1k@example.com', 'website': 'https://example.com/computer-science', 'id': '01'}\n",
      "{'name': 'Mathematics', 'location': 'San Francisco', 'head': 'Dr. Johnson', 'phone': '987-654-3210', 'email': '2m9w9@example.com', 'website': 'https://example.com/mathematics', 'id': '02'}\n",
      "{'name': 'Physics', 'location': 'London', 'head': 'Dr. Brown', 'phone': '555-555-5555', 'email': 'f7o8o@example.com', 'website': 'https://example.com/physics', 'id': '03'}\n",
      "\n",
      "==================================\u001b[1m Ai Message \u001b[0m==================================\n",
      "\n",
      "Yes, the department of Computer Science is present.  It's located in New York, headed by Dr. Smith, and can be contacted at 123-456-7890, i2O1k@example.com, or https://example.com/computer-science.  The department ID is 01.\n"
     ]
    }
   ],
   "source": [
    "message = graph.invoke({\"messages\": [HumanMessage(content=\"is the department of computer sciense is present? Give me the detail of this department please\")]})\n",
    "# Instead of passing the HumanMessage directly,\n",
    "# pass a dictionary with a text field.\n",
    "# message = graph.invoke({\"messages\": [{\"text\": \"I need information of departments\"}]})\n",
    "\n",
    "\n",
    "# Print the messages\n",
    "for m in message['messages']:\n",
    "    m.pretty_print()"
   ]
  },
  {
   "cell_type": "code",
   "execution_count": 194,
   "metadata": {},
   "outputs": [
    {
     "name": "stdout",
     "output_type": "stream",
     "text": [
      "================================\u001b[1m Human Message \u001b[0m=================================\n",
      "\n",
      "Hey I want to that what type of Courses in Compputer Sciense Department\n",
      "==================================\u001b[1m Ai Message \u001b[0m==================================\n",
      "Tool Calls:\n",
      "  retrevie_info_of_courses (a449cb27-8d9b-4f55-adc4-3d064aad1847)\n",
      " Call ID: a449cb27-8d9b-4f55-adc4-3d064aad1847\n",
      "  Args:\n",
      "=================================\u001b[1m Tool Message \u001b[0m=================================\n",
      "Name: retrevie_info_of_courses\n",
      "\n",
      "Hey here is the Information of Courses:....{'name': 'Introduction to Computer Science', 'teacher': 'Dr. Mike', 'teacher_id': 'c1', 'department': 'Computer Science', 'department_id': '01', 'id': '01'}\n",
      "{'name': 'Calculus 1', 'teacher': 'Dr. Andrew', 'teacher_id': 'm02', 'department': 'Mathematics', 'department_id': '02', 'id': '02'}\n",
      "{'name': 'Mechanics', 'teacher': 'Dr. Jognson', 'teacher_id': 'p03', 'department': 'Physics', 'department_id': '03', 'id': '03'}\n",
      "\n",
      "==================================\u001b[1m Ai Message \u001b[0m==================================\n",
      "\n",
      "OK. Based on the available information, the Computer Science department offers an \"Introduction to Computer Science\" course taught by Dr. Mike.  There may be other courses not listed in the current data.\n"
     ]
    }
   ],
   "source": [
    "message = graph.invoke({\"messages\": [HumanMessage(content=\"Hey I want to that what type of Courses in Compputer Sciense Department\")]})\n",
    "# Instead of passing the HumanMessage directly,\n",
    "# pass a dictionary with a text field.\n",
    "# message = graph.invoke({\"messages\": [{\"text\": \"I need information of departments\"}]})\n",
    "\n",
    "\n",
    "# Print the messages\n",
    "for m in message['messages']:\n",
    "    m.pretty_print()"
   ]
  },
  {
   "cell_type": "code",
   "execution_count": 186,
   "metadata": {},
   "outputs": [
    {
     "name": "stdout",
     "output_type": "stream",
     "text": [
      "================================\u001b[1m Human Message \u001b[0m=================================\n",
      "\n",
      "Ok Now Tell me is there is any student whose name is Ali and Id is 21?\n",
      "==================================\u001b[1m Ai Message \u001b[0m==================================\n",
      "\n",
      "I am sorry, I cannot directly access student information to check if a student with the name \"Ali\" and ID 21 exists.  The available tools do not provide a way to query student data by name and ID.\n"
     ]
    }
   ],
   "source": [
    "message = graph.invoke({\"messages\": [HumanMessage(content=\"Ok Now Tell me is there is any student whose name is Ali and Id is 21?\")]})\n",
    "# Instead of passing the HumanMessage directly,\n",
    "# pass a dictionary with a text field.\n",
    "# message = graph.invoke({\"messages\": [{\"text\": \"I need information of departments\"}]})\n",
    "\n",
    "\n",
    "# Print the messages\n",
    "for m in message['messages']:\n",
    "    m.pretty_print()"
   ]
  },
  {
   "cell_type": "code",
   "execution_count": 196,
   "metadata": {},
   "outputs": [
    {
     "name": "stdout",
     "output_type": "stream",
     "text": [
      "================================\u001b[1m Human Message \u001b[0m=================================\n",
      "\n",
      "Ok I want addmssion\n",
      "==================================\u001b[1m Ai Message \u001b[0m==================================\n",
      "Tool Calls:\n",
      "  new_addmission (bcdc38f6-3f23-4e52-88ca-2b9428445ec6)\n",
      " Call ID: bcdc38f6-3f23-4e52-88ca-2b9428445ec6\n",
      "  Args:\n",
      "=================================\u001b[1m Tool Message \u001b[0m=================================\n",
      "Name: new_addmission\n",
      "\n",
      "null\n",
      "==================================\u001b[1m Ai Message \u001b[0m==================================\n",
      "\n",
      "OK. I have started your admission process.  What information do you need from me to continue?\n"
     ]
    }
   ],
   "source": [
    "message = graph.invoke({\"messages\": [HumanMessage(content=\"Ok I want addmssion\")]})\n",
    "# Instead of passing the HumanMessage directly,\n",
    "# pass a dictionary with a text field.\n",
    "# message = graph.invoke({\"messages\": [{\"text\": \"I need information of departments\"}]})\n",
    "\n",
    "\n",
    "# Print the messages\n",
    "for m in message['messages']:\n",
    "    m.pretty_print()"
   ]
  },
  {
   "cell_type": "code",
   "execution_count": 197,
   "metadata": {},
   "outputs": [
    {
     "name": "stdout",
     "output_type": "stream",
     "text": [
      "================================\u001b[1m Human Message \u001b[0m=================================\n",
      "\n",
      "Now Get the data of student\n",
      "==================================\u001b[1m Ai Message \u001b[0m==================================\n",
      "\n",
      "The available tools don't directly provide student data.  There's no function to retrieve student information.  To get student data, new APIs would need to be added.\n"
     ]
    }
   ],
   "source": [
    "message = graph.invoke({\"messages\": [HumanMessage(content=\"Now Get the data of student\")]})\n",
    "# Instead of passing the HumanMessage directly,\n",
    "# pass a dictionary with a text field.\n",
    "# message = graph.invoke({\"messages\": [{\"text\": \"I need information of departments\"}]})\n",
    "\n",
    "\n",
    "# Print the messages\n",
    "for m in message['messages']:\n",
    "    m.pretty_print()"
   ]
  }
 ],
 "metadata": {
  "kernelspec": {
   "display_name": "python12",
   "language": "python",
   "name": "python3"
  },
  "language_info": {
   "codemirror_mode": {
    "name": "ipython",
    "version": 3
   },
   "file_extension": ".py",
   "mimetype": "text/x-python",
   "name": "python",
   "nbconvert_exporter": "python",
   "pygments_lexer": "ipython3",
   "version": "3.12.6"
  }
 },
 "nbformat": 4,
 "nbformat_minor": 2
}
